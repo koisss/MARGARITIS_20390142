{
 "cells": [
  {
   "cell_type": "markdown",
   "id": "a661add6-1596-434d-bd88-b9945e73a9b7",
   "metadata": {},
   "source": [
    "# Βήμα 3: Δημιουργία Ανεστραμμένου Ευρετηρίου (Reverse Index)\n",
    "\n",
    "Σε αυτό το βήμα, θα δημιουργήσουμε το ανεστραμμένο ευρετήριο (inverted index) από τα επεξεργασμένα άρθρα.\n",
    "\n",
    "Το ανεστραμμένο ευρετήριο είναι μια δομή δεδομένων που συνδέει τους όρους (tokens) με τα άρθρα όπου εμφανίζονται. Είναι κρίσιμο για την αναζήτηση, καθώς επιτρέπει γρήγορη ανάκτηση άρθρων που περιέχουν συγκεκριμένους όρους.\n"
   ]
  },
  {
   "cell_type": "markdown",
   "id": "20d03620-c4e9-429e-9f2b-2e166c5d6fdf",
   "metadata": {},
   "source": [
    "## Κελί 1: Εισαγωγή βιβλιοθηκών"
   ]
  },
  {
   "cell_type": "code",
   "execution_count": 6,
   "id": "baa0480a-d7e5-4f82-9fdc-1a48c5489502",
   "metadata": {},
   "outputs": [],
   "source": [
    "from collections import defaultdict\n",
    "import json"
   ]
  },
  {
   "cell_type": "markdown",
   "id": "88c46099-7988-4441-adaf-9e1c9572e8ac",
   "metadata": {},
   "source": [
    "## Κελί 2: Συνάρτηση για τη δημιουργία του ανεστραμμένου ευρετηρίου \n",
    "Σχόλιο:\n",
    "Αυτή η συνάρτηση:Διατρέχει όλα τα άρθρα,διαχωρίζει το περιεχόμενο κάθε άρθρου σε λέξεις (tokens),για κάθε λέξη, ενημερώνει το ευρετήριο με το ID του άρθρου όπου εμφανίζεται."
   ]
  },
  {
   "cell_type": "code",
   "execution_count": 7,
   "id": "57a65672-3867-43eb-87f7-885ae987f08d",
   "metadata": {},
   "outputs": [],
   "source": [
    "def create_inverted_index(articles):\n",
    "    \"\"\"\n",
    "    Δημιουργεί ανεστραμμένο ευρετήριο.\n",
    "    \n",
    "    Args:\n",
    "        articles (list): Λίστα επεξεργασμένων άρθρων.\n",
    "    \n",
    "    Returns:\n",
    "        dict: Ανεστραμμένο ευρετήριο με τους όρους ως κλειδιά\n",
    "              και λίστες με τα IDs των άρθρων όπου εμφανίζονται.\n",
    "    \"\"\"\n",
    "    inverted_index = defaultdict(list)\n",
    "    for idx, article in enumerate(articles):\n",
    "        tokens = article['content'].split()  # Διαχωρίζουμε το κείμενο σε λέξεις\n",
    "        for token in set(tokens):  # Χρησιμοποιούμε `set` για μοναδικούς όρους ανά άρθρο\n",
    "            inverted_index[token].append(idx)\n",
    "    return inverted_index\n"
   ]
  },
  {
   "cell_type": "markdown",
   "id": "83b4b6db-9ae7-41c4-9bb3-980eb00400ab",
   "metadata": {},
   "source": [
    "## Κελί 3: Φόρτωση επεξεργασμένων άρθρων\n",
    "Σχόλιο:Φορτώνουμε τα επεξεργασμένα άρθρα από το αρχείο processed_articles.json που δημιουργήθηκε στο προηγούμενο βήμα."
   ]
  },
  {
   "cell_type": "code",
   "execution_count": 8,
   "id": "d6b0fab8-7d9e-42a6-ae6e-3bbb343535d0",
   "metadata": {},
   "outputs": [
    {
     "name": "stdout",
     "output_type": "stream",
     "text": [
      "Loaded 100 processed articles.\n"
     ]
    }
   ],
   "source": [
    "# Φόρτωση επεξεργασμένων άρθρων από το αρχείο 'processed_articles.json'\n",
    "with open('processed_articles.json', 'r', encoding='utf-8') as f:\n",
    "    articles = json.load(f)\n",
    "\n",
    "print(f\"Loaded {len(articles)} processed articles.\")\n"
   ]
  },
  {
   "cell_type": "markdown",
   "id": "8d7efe85-6a32-479c-9bf6-615b078e4805",
   "metadata": {},
   "source": [
    "## Κελί 4: Δημιουργία του ανεστραμμένου ευρετηρίου \n",
    "Σχόλιο:\n",
    "Χρησιμοποιούμε τη συνάρτηση create_inverted_index για να δημιουργήσουμε το ανεστραμμένο ευρετήριο. Εμφανίζουμε πόσοι μοναδικοί όροι υπάρχουν στο ευρετήριο."
   ]
  },
  {
   "cell_type": "code",
   "execution_count": 9,
   "id": "7ada62dc-c0db-4a7c-ad4b-5ecdfedb770b",
   "metadata": {},
   "outputs": [
    {
     "name": "stdout",
     "output_type": "stream",
     "text": [
      "Inverted index created with 24298 unique tokens.\n"
     ]
    }
   ],
   "source": [
    "# Δημιουργία του ανεστραμμένου ευρετηρίου\n",
    "inverted_index = create_inverted_index(articles)\n",
    "\n",
    "print(f\"Inverted index created with {len(inverted_index)} unique tokens.\")\n"
   ]
  },
  {
   "cell_type": "markdown",
   "id": "b70113a7-dfd9-4c0a-9359-e7e00ccbbd88",
   "metadata": {},
   "source": [
    "## Κελί 5: Αποθήκευση του ανεστραμμένου ευρετηρίου \n",
    "Σχόλιο:\n",
    "Αποθηκεύουμε το ανεστραμμένο ευρετήριο σε ένα αρχείο inverted_index.json για χρήση στα επόμενα βήματα."
   ]
  },
  {
   "cell_type": "code",
   "execution_count": 10,
   "id": "9c422609-6f45-4db5-a7ff-61f64c773bc3",
   "metadata": {},
   "outputs": [
    {
     "name": "stdout",
     "output_type": "stream",
     "text": [
      "Inverted index saved to 'inverted_index.json'.\n"
     ]
    }
   ],
   "source": [
    "# Αποθήκευση του ανεστραμμένου ευρετηρίου σε αρχείο JSON\n",
    "with open('inverted_index.json', 'w', encoding='utf-8') as f:\n",
    "    json.dump(inverted_index, f, indent=4, ensure_ascii=False)\n",
    "\n",
    "print(\"Inverted index saved to 'inverted_index.json'.\")\n"
   ]
  },
  {
   "cell_type": "code",
   "execution_count": null,
   "id": "91813117-15f9-43e0-b922-fb396bf40f32",
   "metadata": {},
   "outputs": [],
   "source": []
  }
 ],
 "metadata": {
  "kernelspec": {
   "display_name": "Python 3 (ipykernel)",
   "language": "python",
   "name": "python3"
  },
  "language_info": {
   "codemirror_mode": {
    "name": "ipython",
    "version": 3
   },
   "file_extension": ".py",
   "mimetype": "text/x-python",
   "name": "python",
   "nbconvert_exporter": "python",
   "pygments_lexer": "ipython3",
   "version": "3.9.9"
  }
 },
 "nbformat": 4,
 "nbformat_minor": 5
}
