{
 "cells": [
  {
   "cell_type": "markdown",
   "id": "373d4b95-099e-4736-9dfe-5c34cd41209e",
   "metadata": {},
   "source": [
    "# Βήμα 5: Αξιολόγηση Αποτελεσμάτων Αναζήτησης\n",
    "\n",
    "Σε αυτό το βήμα, διαβάζουμε τα αποτελέσματα αναζήτησης από το Βήμα 4 και υπολογίζουμε τις μετρικές αξιολόγησης:\n",
    "1. **Precision (Ακρίβεια)**: Ποσοστό των σχετικών άρθρων που ανακτήθηκαν.\n",
    "2. **Recall (Ανάκληση)**: Ποσοστό των σχετικών άρθρων που εντοπίστηκαν.\n",
    "3. **F1-Score**: Ο συνδυασμός Precision και Recall.\n",
    "\n",
    "Τα αποτελέσματα αποθηκεύονται σε ένα αρχείο JSON για μελλοντική ανάλυση.\n"
   ]
  },
  {
   "cell_type": "markdown",
   "id": "badb03a9-95ba-47c4-8f9e-a6cb50ab42ff",
   "metadata": {},
   "source": [
    "## Κελί 1: Φόρτωση Αρχείων\n",
    "Σχόλιο:\n",
    "Αυτή η συνάρτηση φορτώνει τα παρακάτω:\n",
    "\n",
    "Τα άρθρα (processed_articles.json).\n",
    "Τα αποτελέσματα αναζήτησης (search_results.json), που δημιουργήθηκαν στο Βήμα "
   ]
  },
  {
   "cell_type": "code",
   "execution_count": 13,
   "id": "0157f874-48b3-4986-810f-ac7eaa299a39",
   "metadata": {},
   "outputs": [
    {
     "name": "stdout",
     "output_type": "stream",
     "text": [
      "Loaded 100 articles.\n",
      "Loaded search results for query: 'algebra' using algorithm: 'bm25'.\n"
     ]
    }
   ],
   "source": [
    "import json\n",
    "\n",
    "# Φόρτωση επεξεργασμένων άρθρων\n",
    "with open('processed_articles.json', 'r', encoding='utf-8') as f:\n",
    "    articles = json.load(f)\n",
    "\n",
    "# Φόρτωση αποτελεσμάτων από το Βήμα 4\n",
    "with open('search_results.json', 'r', encoding='utf-8') as f:\n",
    "    search_results = json.load(f)\n",
    "\n",
    "# Εμφάνιση δεδομένων\n",
    "print(f\"Loaded {len(articles)} articles.\")\n",
    "print(f\"Loaded search results for query: '{search_results['query']}' using algorithm: '{search_results['algorithm']}'.\")\n"
   ]
  },
  {
   "cell_type": "markdown",
   "id": "8e3e7ea6-90a5-4ed0-b11b-75b707a2397a",
   "metadata": {},
   "source": [
    "## Κελί 2: Υπολογισμός Μετρικών\n",
    "Σχόλιο:\n",
    "Υπολογίζουμε τις μετρικές Precision, Recall, και F1-Score με βάση:\n",
    "\n",
    "Τα σχετικά άρθρα (relevant_docs).\n",
    "Τα άρθρα που ανακτήθηκαν (retrieved_docs)."
   ]
  },
  {
   "cell_type": "code",
   "execution_count": 15,
   "id": "2f5685ac-bde8-4b26-8df6-2b7fe2808a5c",
   "metadata": {
    "scrolled": true
   },
   "outputs": [
    {
     "name": "stdout",
     "output_type": "stream",
     "text": [
      "\n",
      "Evaluation Metrics:\n",
      "Precision: 1.00\n",
      "Recall: 0.54\n",
      "F1-Score: 0.70\n"
     ]
    }
   ],
   "source": [
    "# Συνάρτηση υπολογισμού Precision, Recall, και F1-Score\n",
    "def calculate_metrics(relevant_docs, retrieved_docs):\n",
    "    \"\"\"\n",
    "    Υπολογίζει τις μετρικές Precision, Recall, και F1-Score.\n",
    "    \"\"\"\n",
    "    relevant_set = set(relevant_docs)\n",
    "    retrieved_set = set(retrieved_docs)\n",
    "\n",
    "    true_positives = len(relevant_set & retrieved_set)\n",
    "    false_positives = len(retrieved_set - relevant_set)\n",
    "    false_negatives = len(relevant_set - retrieved_set)\n",
    "\n",
    "    precision = true_positives / (true_positives + false_positives) if (true_positives + false_positives) > 0 else 0\n",
    "    recall = true_positives / (true_positives + false_negatives) if (true_positives + false_negatives) > 0 else 0\n",
    "    f1_score = (2 * precision * recall) / (precision + recall) if (precision + recall) > 0 else 0\n",
    "\n",
    "    return {\n",
    "        \"precision\": precision,\n",
    "        \"recall\": recall,\n",
    "        \"f1_score\": f1_score\n",
    "    }\n",
    "\n",
    "# Θεωρούμε ότι όλα τα άρθρα είναι σχετικά (για δοκιμή)\n",
    "relevant_docs = list(range(len(articles)))\n",
    "\n",
    "# Λήψη ανακτημένων άρθρων από τα αποτελέσματα\n",
    "retrieved_docs = search_results['retrieved_ids']\n",
    "\n",
    "# Υπολογισμός μετρικών\n",
    "metrics = calculate_metrics(relevant_docs, retrieved_docs)\n",
    "\n",
    "# Εμφάνιση μετρικών\n",
    "print(\"\\nEvaluation Metrics:\")\n",
    "print(f\"Precision: {metrics['precision']:.2f}\")\n",
    "print(f\"Recall: {metrics['recall']:.2f}\")\n",
    "print(f\"F1-Score: {metrics['f1_score']:.2f}\")\n"
   ]
  },
  {
   "cell_type": "markdown",
   "id": "e06f625c-9c76-49a4-8a4d-557a0ff1548c",
   "metadata": {},
   "source": [
    "## TFIDF**\n",
    "\n",
    "**Evaluation Metrics: **\n",
    "\n",
    "**Precision: 1.00**\n",
    "\n",
    "**Recall: 0.40** \n",
    "\n",
    "**F1-Score: 0.57**\n",
    "\n",
    "\n",
    "\n",
    "## BM25**\n",
    "\n",
    "**Evaluation Metrics: **\n",
    "\n",
    "**Precision: 1.00**\n",
    "\n",
    "**Recall: 0.54** \n",
    "\n",
    "**F1-Score: 0.70**\n",
    "\n"
   ]
  },
  {
   "cell_type": "markdown",
   "id": "ef6be755-641e-4f57-9b17-e75a6e3a0eff",
   "metadata": {},
   "source": [
    "## Κελί 3: Αποθήκευση Μετρικών\n",
    "\n",
    "Σχόλιο:\n",
    "Οι μετρικές αποθηκεύονται σε ένα αρχείο evaluation_results.json για μελλοντική ανάλυση."
   ]
  },
  {
   "cell_type": "code",
   "execution_count": 12,
   "id": "a09aabf2-c035-4e03-9ef5-aa27f47394d8",
   "metadata": {},
   "outputs": [
    {
     "name": "stdout",
     "output_type": "stream",
     "text": [
      "\n",
      "Evaluation metrics saved to 'evaluation_results.json'.\n"
     ]
    }
   ],
   "source": [
    "# Προετοιμασία δεδομένων για αποθήκευση\n",
    "evaluation_data = {\n",
    "    \"query\": search_results['query'],\n",
    "    \"algorithm\": search_results['algorithm'],\n",
    "    \"metrics\": metrics\n",
    "}\n",
    "\n",
    "# Αποθήκευση μετρικών σε αρχείο JSON\n",
    "with open('evaluation_results.json', 'w', encoding='utf-8') as f:\n",
    "    json.dump(evaluation_data, f, indent=4, ensure_ascii=False)\n",
    "\n",
    "print(\"\\nEvaluation metrics saved to 'evaluation_results.json'.\")\n"
   ]
  }
 ],
 "metadata": {
  "kernelspec": {
   "display_name": "Python 3 (ipykernel)",
   "language": "python",
   "name": "python3"
  },
  "language_info": {
   "codemirror_mode": {
    "name": "ipython",
    "version": 3
   },
   "file_extension": ".py",
   "mimetype": "text/x-python",
   "name": "python",
   "nbconvert_exporter": "python",
   "pygments_lexer": "ipython3",
   "version": "3.9.9"
  }
 },
 "nbformat": 4,
 "nbformat_minor": 5
}
