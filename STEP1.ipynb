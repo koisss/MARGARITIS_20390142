{
 "cells": [
  {
   "cell_type": "markdown",
   "id": "c178c9c2-2646-4b72-8bbf-406c3d1e60d8",
   "metadata": {},
   "source": [
    "# Βήμα 1: FETCH WIKIPEDIA"
   ]
  },
  {
   "cell_type": "markdown",
   "id": "0bc88822-50f0-4437-b28c-6bdf051d6652",
   "metadata": {},
   "source": [
    "## Κελί 1: Εισαγωγή Βιβλιοθηκών\n",
    "Εισαγωγή των βιβλιοθηκών που θα χρησιμοποιηθούν:"
   ]
  },
  {
   "cell_type": "code",
   "execution_count": 5,
   "id": "072abc72-2a4b-4b35-88fa-7ec256907f67",
   "metadata": {},
   "outputs": [],
   "source": [
    "import requests\n",
    "from bs4 import BeautifulSoup\n",
    "import json"
   ]
  },
  {
   "cell_type": "markdown",
   "id": "ab6d1ab1-b8d3-4612-b727-abfc5a879b7f",
   "metadata": {},
   "source": [
    "## Κελί 2: Υλοποίηση Συνάρτησης\n",
    "Γράφεις τη συνάρτηση fetch_wikipedia_articles:"
   ]
  },
  {
   "cell_type": "code",
   "execution_count": 6,
   "id": "18650291-b9de-497c-81b6-9943b4692e93",
   "metadata": {},
   "outputs": [],
   "source": [
    "def fetch_wikipedia_articles(keyword, max_articles=5):\n",
    "    \"\"\"\n",
    "    Συλλέγει άρθρα από το Wikipedia για το συγκεκριμένο keyword, αποφεύγοντας τα διπλότυπα.\n",
    "    \"\"\"\n",
    "    base_url = \"https://en.wikipedia.org/wiki/\"\n",
    "    search_url = f\"https://en.wikipedia.org/w/index.php?search={keyword.replace(' ', '+')}\"\n",
    "    response = requests.get(search_url)\n",
    "\n",
    "    if response.status_code != 200:\n",
    "        print(f\"Failed to fetch articles for keyword: {keyword}\")\n",
    "        return []\n",
    "\n",
    "    soup = BeautifulSoup(response.content, 'html.parser')\n",
    "    articles = []\n",
    "    seen_titles = set()  # Χρησιμοποιούμε ένα σύνολο για να παρακολουθούμε μοναδικούς τίτλους\n",
    "    links = soup.find_all('a', href=True)\n",
    "\n",
    "    for link in links:\n",
    "        if len(articles) >= max_articles:\n",
    "            break\n",
    "        href = link['href']\n",
    "        if href.startswith(\"/wiki/\") and not any(prefix in href for prefix in [\":\", \"#\"]):\n",
    "            full_url = f\"https://en.wikipedia.org{href}\"\n",
    "            article_response = requests.get(full_url)\n",
    "            if article_response.status_code == 200:\n",
    "                article_soup = BeautifulSoup(article_response.content, 'html.parser')\n",
    "                title = article_soup.find('h1', {'id': 'firstHeading'}).text if article_soup.find('h1', {'id': 'firstHeading'}) else \"No Title\"\n",
    "                content = '\\n'.join([p.text for p in article_soup.find_all('p')])\n",
    "\n",
    "                # Έλεγχος για διπλότυπους τίτλους\n",
    "                if title not in seen_titles:\n",
    "                    articles.append({\"title\": title, \"content\": content})\n",
    "                    seen_titles.add(title)  # Προσθήκη του τίτλου στο σύνολο\n",
    "\n",
    "    return articles\n"
   ]
  },
  {
   "cell_type": "markdown",
   "id": "fcd3f4b4-3071-445d-935c-d91eb3e690bf",
   "metadata": {},
   "source": [
    "## Κελί 3: Κλήση της Συνάρτησης και Αποθήκευση\n",
    "Εδώ καλείς τη συνάρτηση και αποθηκεύεις τα δεδομένα:"
   ]
  },
  {
   "cell_type": "code",
   "execution_count": 7,
   "id": "9f88b500-35e7-4c73-9a3a-4d798dd0d5aa",
   "metadata": {},
   "outputs": [
    {
     "name": "stdin",
     "output_type": "stream",
     "text": [
      "Enter the topic:  maths\n",
      "Enter the number of articles:  100\n"
     ]
    },
    {
     "name": "stdout",
     "output_type": "stream",
     "text": [
      "Saved 100 articles to 'articles.json'.\n"
     ]
    }
   ],
   "source": [
    "# Εισαγωγή από τον χρήστη\n",
    "topic = input(\"Enter the topic: \")\n",
    "num_articles = int(input(\"Enter the number of articles: \"))\n",
    "\n",
    "# Κλήση της συνάρτησης\n",
    "articles = fetch_wikipedia_articles(topic, num_articles)\n",
    "\n",
    "# Αποθήκευση άρθρων σε JSON αρχείο\n",
    "with open('articles.json', 'w', encoding='utf-8') as f:\n",
    "    json.dump(articles, f, indent=4, ensure_ascii=False)\n",
    "\n",
    "print(f\"Saved {len(articles)} articles to 'articles.json'.\")\n"
   ]
  }
 ],
 "metadata": {
  "kernelspec": {
   "display_name": "Python 3 (ipykernel)",
   "language": "python",
   "name": "python3"
  },
  "language_info": {
   "codemirror_mode": {
    "name": "ipython",
    "version": 3
   },
   "file_extension": ".py",
   "mimetype": "text/x-python",
   "name": "python",
   "nbconvert_exporter": "python",
   "pygments_lexer": "ipython3",
   "version": "3.9.9"
  }
 },
 "nbformat": 4,
 "nbformat_minor": 5
}
